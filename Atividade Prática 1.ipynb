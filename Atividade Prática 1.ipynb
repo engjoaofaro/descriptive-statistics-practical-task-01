{
 "cells": [
  {
   "metadata": {},
   "cell_type": "markdown",
   "source": "# Instalando pacotes",
   "id": "40ae80884a047a1d"
  },
  {
   "metadata": {
    "ExecuteTime": {
     "end_time": "2025-08-17T21:36:56.602791Z",
     "start_time": "2025-08-17T21:36:51.233299Z"
    }
   },
   "cell_type": "code",
   "source": [
    "# Install requirements\n",
    "!pip install --upgrade pip\n",
    "!pip install pandas\n",
    "!pip install matplotlib\n",
    "!pip install numpy"
   ],
   "id": "b8dd826664a155c5",
   "outputs": [
    {
     "name": "stdout",
     "output_type": "stream",
     "text": [
      "Requirement already satisfied: pip in ./.venv/lib/python3.13/site-packages (25.2)\r\n",
      "Requirement already satisfied: pandas in ./.venv/lib/python3.13/site-packages (2.3.1)\r\n",
      "Requirement already satisfied: numpy>=1.26.0 in ./.venv/lib/python3.13/site-packages (from pandas) (2.3.2)\r\n",
      "Requirement already satisfied: python-dateutil>=2.8.2 in ./.venv/lib/python3.13/site-packages (from pandas) (2.9.0.post0)\r\n",
      "Requirement already satisfied: pytz>=2020.1 in ./.venv/lib/python3.13/site-packages (from pandas) (2025.2)\r\n",
      "Requirement already satisfied: tzdata>=2022.7 in ./.venv/lib/python3.13/site-packages (from pandas) (2025.2)\r\n",
      "Requirement already satisfied: six>=1.5 in ./.venv/lib/python3.13/site-packages (from python-dateutil>=2.8.2->pandas) (1.17.0)\r\n",
      "Requirement already satisfied: matplotlib in ./.venv/lib/python3.13/site-packages (3.10.5)\r\n",
      "Requirement already satisfied: contourpy>=1.0.1 in ./.venv/lib/python3.13/site-packages (from matplotlib) (1.3.3)\r\n",
      "Requirement already satisfied: cycler>=0.10 in ./.venv/lib/python3.13/site-packages (from matplotlib) (0.12.1)\r\n",
      "Requirement already satisfied: fonttools>=4.22.0 in ./.venv/lib/python3.13/site-packages (from matplotlib) (4.59.1)\r\n",
      "Requirement already satisfied: kiwisolver>=1.3.1 in ./.venv/lib/python3.13/site-packages (from matplotlib) (1.4.9)\r\n",
      "Requirement already satisfied: numpy>=1.23 in ./.venv/lib/python3.13/site-packages (from matplotlib) (2.3.2)\r\n",
      "Requirement already satisfied: packaging>=20.0 in ./.venv/lib/python3.13/site-packages (from matplotlib) (25.0)\r\n",
      "Requirement already satisfied: pillow>=8 in ./.venv/lib/python3.13/site-packages (from matplotlib) (11.3.0)\r\n",
      "Requirement already satisfied: pyparsing>=2.3.1 in ./.venv/lib/python3.13/site-packages (from matplotlib) (3.2.3)\r\n",
      "Requirement already satisfied: python-dateutil>=2.7 in ./.venv/lib/python3.13/site-packages (from matplotlib) (2.9.0.post0)\r\n",
      "Requirement already satisfied: six>=1.5 in ./.venv/lib/python3.13/site-packages (from python-dateutil>=2.7->matplotlib) (1.17.0)\r\n",
      "Requirement already satisfied: numpy in ./.venv/lib/python3.13/site-packages (2.3.2)\r\n"
     ]
    }
   ],
   "execution_count": 2
  },
  {
   "metadata": {},
   "cell_type": "markdown",
   "source": "# Importando dependências e a base que será utilizada no projeto",
   "id": "ddeaca67f80c1adf"
  },
  {
   "metadata": {
    "ExecuteTime": {
     "end_time": "2025-08-17T21:36:58.451142Z",
     "start_time": "2025-08-17T21:36:56.631476Z"
    }
   },
   "cell_type": "code",
   "source": [
    "import pandas as pd\n",
    "import matplotlib.pyplot as plt\n",
    "import numpy as np\n",
    "\n",
    "credit_risk = pd.read_csv('german_credit_risk_mineração_BI.csv')\n",
    "\n",
    "# Initial Database\n",
    "credit_risk.head()"
   ],
   "id": "bde63b5dcd09856",
   "outputs": [
    {
     "data": {
      "text/plain": [
       "   Unnamed: 0  Age     Sex  Job Housing Saving accounts Checking account  \\\n",
       "0           0   67    male    2     own             NaN           little   \n",
       "1           1   22  female    2     own          little         moderate   \n",
       "2           2   49    male    1     own          little              NaN   \n",
       "3           3   45    male    2    free          little           little   \n",
       "4           4   53    male    2    free          little           little   \n",
       "\n",
       "   Credit amount  Duration              Purpose  Risk  \n",
       "0           1169         6             radio/TV  good  \n",
       "1           5951        48             radio/TV   bad  \n",
       "2           2096        12            education  good  \n",
       "3           7882        42  furniture/equipment  good  \n",
       "4           4870        24                  car   bad  "
      ],
      "text/html": [
       "<div>\n",
       "<style scoped>\n",
       "    .dataframe tbody tr th:only-of-type {\n",
       "        vertical-align: middle;\n",
       "    }\n",
       "\n",
       "    .dataframe tbody tr th {\n",
       "        vertical-align: top;\n",
       "    }\n",
       "\n",
       "    .dataframe thead th {\n",
       "        text-align: right;\n",
       "    }\n",
       "</style>\n",
       "<table border=\"1\" class=\"dataframe\">\n",
       "  <thead>\n",
       "    <tr style=\"text-align: right;\">\n",
       "      <th></th>\n",
       "      <th>Unnamed: 0</th>\n",
       "      <th>Age</th>\n",
       "      <th>Sex</th>\n",
       "      <th>Job</th>\n",
       "      <th>Housing</th>\n",
       "      <th>Saving accounts</th>\n",
       "      <th>Checking account</th>\n",
       "      <th>Credit amount</th>\n",
       "      <th>Duration</th>\n",
       "      <th>Purpose</th>\n",
       "      <th>Risk</th>\n",
       "    </tr>\n",
       "  </thead>\n",
       "  <tbody>\n",
       "    <tr>\n",
       "      <th>0</th>\n",
       "      <td>0</td>\n",
       "      <td>67</td>\n",
       "      <td>male</td>\n",
       "      <td>2</td>\n",
       "      <td>own</td>\n",
       "      <td>NaN</td>\n",
       "      <td>little</td>\n",
       "      <td>1169</td>\n",
       "      <td>6</td>\n",
       "      <td>radio/TV</td>\n",
       "      <td>good</td>\n",
       "    </tr>\n",
       "    <tr>\n",
       "      <th>1</th>\n",
       "      <td>1</td>\n",
       "      <td>22</td>\n",
       "      <td>female</td>\n",
       "      <td>2</td>\n",
       "      <td>own</td>\n",
       "      <td>little</td>\n",
       "      <td>moderate</td>\n",
       "      <td>5951</td>\n",
       "      <td>48</td>\n",
       "      <td>radio/TV</td>\n",
       "      <td>bad</td>\n",
       "    </tr>\n",
       "    <tr>\n",
       "      <th>2</th>\n",
       "      <td>2</td>\n",
       "      <td>49</td>\n",
       "      <td>male</td>\n",
       "      <td>1</td>\n",
       "      <td>own</td>\n",
       "      <td>little</td>\n",
       "      <td>NaN</td>\n",
       "      <td>2096</td>\n",
       "      <td>12</td>\n",
       "      <td>education</td>\n",
       "      <td>good</td>\n",
       "    </tr>\n",
       "    <tr>\n",
       "      <th>3</th>\n",
       "      <td>3</td>\n",
       "      <td>45</td>\n",
       "      <td>male</td>\n",
       "      <td>2</td>\n",
       "      <td>free</td>\n",
       "      <td>little</td>\n",
       "      <td>little</td>\n",
       "      <td>7882</td>\n",
       "      <td>42</td>\n",
       "      <td>furniture/equipment</td>\n",
       "      <td>good</td>\n",
       "    </tr>\n",
       "    <tr>\n",
       "      <th>4</th>\n",
       "      <td>4</td>\n",
       "      <td>53</td>\n",
       "      <td>male</td>\n",
       "      <td>2</td>\n",
       "      <td>free</td>\n",
       "      <td>little</td>\n",
       "      <td>little</td>\n",
       "      <td>4870</td>\n",
       "      <td>24</td>\n",
       "      <td>car</td>\n",
       "      <td>bad</td>\n",
       "    </tr>\n",
       "  </tbody>\n",
       "</table>\n",
       "</div>"
      ]
     },
     "execution_count": 3,
     "metadata": {},
     "output_type": "execute_result"
    }
   ],
   "execution_count": 3
  },
  {
   "metadata": {},
   "cell_type": "markdown",
   "source": "# Análise Exploratória de Dados",
   "id": "ae5046852521a3a1"
  },
  {
   "metadata": {
    "ExecuteTime": {
     "end_time": "2025-08-17T21:36:58.544790Z",
     "start_time": "2025-08-17T21:36:58.541280Z"
    }
   },
   "cell_type": "code",
   "source": [
    "# View all Dimensions\n",
    "dimensions = credit_risk.shape\n",
    "print(f'Dimensions: {dimensions}')"
   ],
   "id": "2fcd5095ad57331c",
   "outputs": [
    {
     "name": "stdout",
     "output_type": "stream",
     "text": [
      "Dimensions: (1000, 11)\n"
     ]
    }
   ],
   "execution_count": 4
  },
  {
   "metadata": {
    "ExecuteTime": {
     "end_time": "2025-08-17T21:36:58.806362Z",
     "start_time": "2025-08-17T21:36:58.767955Z"
    }
   },
   "cell_type": "code",
   "source": [
    "# Some Statistics from credit risk\n",
    "credit_risk.describe()"
   ],
   "id": "5ecdff108f7d0d94",
   "outputs": [
    {
     "data": {
      "text/plain": [
       "        Unnamed: 0          Age          Job  Credit amount     Duration\n",
       "count  1000.000000  1000.000000  1000.000000    1000.000000  1000.000000\n",
       "mean    499.500000    35.546000     1.904000    3271.258000    20.903000\n",
       "std     288.819436    11.375469     0.653614    2822.736876    12.058814\n",
       "min       0.000000    19.000000     0.000000     250.000000     4.000000\n",
       "25%     249.750000    27.000000     2.000000    1365.500000    12.000000\n",
       "50%     499.500000    33.000000     2.000000    2319.500000    18.000000\n",
       "75%     749.250000    42.000000     2.000000    3972.250000    24.000000\n",
       "max     999.000000    75.000000     3.000000   18424.000000    72.000000"
      ],
      "text/html": [
       "<div>\n",
       "<style scoped>\n",
       "    .dataframe tbody tr th:only-of-type {\n",
       "        vertical-align: middle;\n",
       "    }\n",
       "\n",
       "    .dataframe tbody tr th {\n",
       "        vertical-align: top;\n",
       "    }\n",
       "\n",
       "    .dataframe thead th {\n",
       "        text-align: right;\n",
       "    }\n",
       "</style>\n",
       "<table border=\"1\" class=\"dataframe\">\n",
       "  <thead>\n",
       "    <tr style=\"text-align: right;\">\n",
       "      <th></th>\n",
       "      <th>Unnamed: 0</th>\n",
       "      <th>Age</th>\n",
       "      <th>Job</th>\n",
       "      <th>Credit amount</th>\n",
       "      <th>Duration</th>\n",
       "    </tr>\n",
       "  </thead>\n",
       "  <tbody>\n",
       "    <tr>\n",
       "      <th>count</th>\n",
       "      <td>1000.000000</td>\n",
       "      <td>1000.000000</td>\n",
       "      <td>1000.000000</td>\n",
       "      <td>1000.000000</td>\n",
       "      <td>1000.000000</td>\n",
       "    </tr>\n",
       "    <tr>\n",
       "      <th>mean</th>\n",
       "      <td>499.500000</td>\n",
       "      <td>35.546000</td>\n",
       "      <td>1.904000</td>\n",
       "      <td>3271.258000</td>\n",
       "      <td>20.903000</td>\n",
       "    </tr>\n",
       "    <tr>\n",
       "      <th>std</th>\n",
       "      <td>288.819436</td>\n",
       "      <td>11.375469</td>\n",
       "      <td>0.653614</td>\n",
       "      <td>2822.736876</td>\n",
       "      <td>12.058814</td>\n",
       "    </tr>\n",
       "    <tr>\n",
       "      <th>min</th>\n",
       "      <td>0.000000</td>\n",
       "      <td>19.000000</td>\n",
       "      <td>0.000000</td>\n",
       "      <td>250.000000</td>\n",
       "      <td>4.000000</td>\n",
       "    </tr>\n",
       "    <tr>\n",
       "      <th>25%</th>\n",
       "      <td>249.750000</td>\n",
       "      <td>27.000000</td>\n",
       "      <td>2.000000</td>\n",
       "      <td>1365.500000</td>\n",
       "      <td>12.000000</td>\n",
       "    </tr>\n",
       "    <tr>\n",
       "      <th>50%</th>\n",
       "      <td>499.500000</td>\n",
       "      <td>33.000000</td>\n",
       "      <td>2.000000</td>\n",
       "      <td>2319.500000</td>\n",
       "      <td>18.000000</td>\n",
       "    </tr>\n",
       "    <tr>\n",
       "      <th>75%</th>\n",
       "      <td>749.250000</td>\n",
       "      <td>42.000000</td>\n",
       "      <td>2.000000</td>\n",
       "      <td>3972.250000</td>\n",
       "      <td>24.000000</td>\n",
       "    </tr>\n",
       "    <tr>\n",
       "      <th>max</th>\n",
       "      <td>999.000000</td>\n",
       "      <td>75.000000</td>\n",
       "      <td>3.000000</td>\n",
       "      <td>18424.000000</td>\n",
       "      <td>72.000000</td>\n",
       "    </tr>\n",
       "  </tbody>\n",
       "</table>\n",
       "</div>"
      ]
     },
     "execution_count": 5,
     "metadata": {},
     "output_type": "execute_result"
    }
   ],
   "execution_count": 5
  },
  {
   "metadata": {},
   "cell_type": "markdown",
   "source": [
    "> Observando já com o `describe` consigo entender alguns números:\n",
    "\n",
    ". As idades variam em média cerca de 11.4 anos em relação à média que é de 35.5 anos\n",
    "\n",
    ". Os valores de crédito tem uma dispersão bem alta\n",
    "\n",
    ". A duração dos empréstimos varia em média cerca de 12 meses"
   ],
   "id": "60a478d755be55cd"
  },
  {
   "cell_type": "markdown",
   "id": "e7f19c93",
   "metadata": {
    "id": "e7f19c93"
   },
   "source": [
    "# Perguntas de Estatística Descritiva e Pré-processamento\n"
   ]
  },
  {
   "cell_type": "markdown",
   "id": "e9186350",
   "metadata": {
    "id": "e9186350"
   },
   "source": [
    "### 1. Qual é a média, mediana e desvio padrão da idade dos clientes?"
   ]
  },
  {
   "cell_type": "code",
   "id": "4bbd8258",
   "metadata": {
    "id": "4bbd8258",
    "ExecuteTime": {
     "end_time": "2025-08-17T21:36:59.043357Z",
     "start_time": "2025-08-17T21:36:59.034146Z"
    }
   },
   "source": [
    "# Describe only for Age column\n",
    "describe_age_clients = credit_risk['Age'].describe()\n",
    "describe_age_clients"
   ],
   "outputs": [
    {
     "data": {
      "text/plain": [
       "count    1000.000000\n",
       "mean       35.546000\n",
       "std        11.375469\n",
       "min        19.000000\n",
       "25%        27.000000\n",
       "50%        33.000000\n",
       "75%        42.000000\n",
       "max        75.000000\n",
       "Name: Age, dtype: float64"
      ]
     },
     "execution_count": 6,
     "metadata": {},
     "output_type": "execute_result"
    }
   ],
   "execution_count": 6
  },
  {
   "metadata": {
    "ExecuteTime": {
     "end_time": "2025-08-17T21:36:59.471970Z",
     "start_time": "2025-08-17T21:36:59.462898Z"
    }
   },
   "cell_type": "code",
   "source": [
    "# Separating only Age statistics with mean, median and std\n",
    "mean_age = credit_risk['Age'].mean()\n",
    "median_age = credit_risk['Age'].median()\n",
    "std_age = credit_risk['Age'].std()\n",
    "\n",
    "# Transforming to DataFrame\n",
    "statistics_age =  np.array([mean_age, median_age, std_age])\n",
    "df_age = pd.DataFrame(statistics_age, index=['mean', 'median', 'std'], columns=['Age'])\n",
    "df_age"
   ],
   "id": "8ac1d3f500b23033",
   "outputs": [
    {
     "data": {
      "text/plain": [
       "              Age\n",
       "mean    35.546000\n",
       "median  33.000000\n",
       "std     11.375469"
      ],
      "text/html": [
       "<div>\n",
       "<style scoped>\n",
       "    .dataframe tbody tr th:only-of-type {\n",
       "        vertical-align: middle;\n",
       "    }\n",
       "\n",
       "    .dataframe tbody tr th {\n",
       "        vertical-align: top;\n",
       "    }\n",
       "\n",
       "    .dataframe thead th {\n",
       "        text-align: right;\n",
       "    }\n",
       "</style>\n",
       "<table border=\"1\" class=\"dataframe\">\n",
       "  <thead>\n",
       "    <tr style=\"text-align: right;\">\n",
       "      <th></th>\n",
       "      <th>Age</th>\n",
       "    </tr>\n",
       "  </thead>\n",
       "  <tbody>\n",
       "    <tr>\n",
       "      <th>mean</th>\n",
       "      <td>35.546000</td>\n",
       "    </tr>\n",
       "    <tr>\n",
       "      <th>median</th>\n",
       "      <td>33.000000</td>\n",
       "    </tr>\n",
       "    <tr>\n",
       "      <th>std</th>\n",
       "      <td>11.375469</td>\n",
       "    </tr>\n",
       "  </tbody>\n",
       "</table>\n",
       "</div>"
      ]
     },
     "execution_count": 7,
     "metadata": {},
     "output_type": "execute_result"
    }
   ],
   "execution_count": 7
  },
  {
   "metadata": {},
   "cell_type": "markdown",
   "source": [
    "### Resposta:\n",
    "\n",
    ". **Média**: 35,5\n",
    "\n",
    ". **Mediana**: 33\n",
    "\n",
    ". **Desvio Padrão**: 11,4"
   ],
   "id": "523e3614fe3b89dc"
  },
  {
   "cell_type": "markdown",
   "id": "d946f481",
   "metadata": {
    "id": "d946f481"
   },
   "source": [
    "### 2. Qual é a distribuição de valores nulos nas colunas `Saving accounts` e `Checking account`?"
   ]
  },
  {
   "cell_type": "code",
   "id": "e7481268",
   "metadata": {
    "id": "e7481268",
    "ExecuteTime": {
     "end_time": "2025-08-17T21:36:59.700818Z",
     "start_time": "2025-08-17T21:36:59.693028Z"
    }
   },
   "source": [
    "# Getting NaN values from columns: Saving accounts and Checking account\n",
    "saving_accounts_isnull = credit_risk['Saving accounts'].isna().sum()\n",
    "checking_account_isnull = credit_risk['Checking account'].isna().sum()\n",
    "# Transforming to DataFrame\n",
    "distributions_accounts_null = np.array([saving_accounts_isnull, checking_account_isnull])\n",
    "df_null = pd.DataFrame(distributions_accounts_null, index=['Saving accounts', 'Checking account'], columns=['Null'])\n",
    "df_null"
   ],
   "outputs": [
    {
     "data": {
      "text/plain": [
       "                  Null\n",
       "Saving accounts    183\n",
       "Checking account   394"
      ],
      "text/html": [
       "<div>\n",
       "<style scoped>\n",
       "    .dataframe tbody tr th:only-of-type {\n",
       "        vertical-align: middle;\n",
       "    }\n",
       "\n",
       "    .dataframe tbody tr th {\n",
       "        vertical-align: top;\n",
       "    }\n",
       "\n",
       "    .dataframe thead th {\n",
       "        text-align: right;\n",
       "    }\n",
       "</style>\n",
       "<table border=\"1\" class=\"dataframe\">\n",
       "  <thead>\n",
       "    <tr style=\"text-align: right;\">\n",
       "      <th></th>\n",
       "      <th>Null</th>\n",
       "    </tr>\n",
       "  </thead>\n",
       "  <tbody>\n",
       "    <tr>\n",
       "      <th>Saving accounts</th>\n",
       "      <td>183</td>\n",
       "    </tr>\n",
       "    <tr>\n",
       "      <th>Checking account</th>\n",
       "      <td>394</td>\n",
       "    </tr>\n",
       "  </tbody>\n",
       "</table>\n",
       "</div>"
      ]
     },
     "execution_count": 8,
     "metadata": {},
     "output_type": "execute_result"
    }
   ],
   "execution_count": 8
  },
  {
   "metadata": {
    "ExecuteTime": {
     "end_time": "2025-08-17T21:37:00.833545Z",
     "start_time": "2025-08-17T21:37:00.408423Z"
    }
   },
   "cell_type": "code",
   "source": [
    "# Plot For better visualization\n",
    "plt.figure(figsize=(10, 6))\n",
    "df_null.plot(kind='bar',\n",
    "             title='Number of NaNs per Column',\n",
    "             xlabel='Columns',\n",
    "             alpha=0.5,\n",
    "             ylabel='Null Values',\n",
    "             color='blue')"
   ],
   "id": "1a8b5fe6db610e18",
   "outputs": [
    {
     "data": {
      "text/plain": [
       "<Axes: title={'center': 'Number of NaNs per Column'}, xlabel='Columns', ylabel='Null Values'>"
      ]
     },
     "execution_count": 9,
     "metadata": {},
     "output_type": "execute_result"
    },
    {
     "data": {
      "text/plain": [
       "<Figure size 1000x600 with 0 Axes>"
      ]
     },
     "metadata": {},
     "output_type": "display_data"
    },
    {
     "data": {
      "text/plain": [
       "<Figure size 640x480 with 1 Axes>"
      ],
      "image/png": "[encoded data removed]"
     },
     "metadata": {},
     "output_type": "display_data"
    }
   ],
   "execution_count": 9
  },
  {
   "metadata": {},
   "cell_type": "markdown",
   "source": [
    "### Resposta\n",
    "\n",
    ". Saving accounts: 183\n",
    "\n",
    ". Checking account: 394"
   ],
   "id": "93527c158063159a"
  },
  {
   "cell_type": "markdown",
   "id": "53b0497f",
   "metadata": {
    "id": "53b0497f"
   },
   "source": [
    "### 3. Qual é a proporção de clientes por categoria de `Sex` e `Housing`?"
   ]
  },
  {
   "cell_type": "code",
   "id": "0a36baac",
   "metadata": {
    "id": "0a36baac",
    "ExecuteTime": {
     "end_time": "2025-08-17T21:37:00.930977Z",
     "start_time": "2025-08-17T21:37:00.926651Z"
    }
   },
   "source": [
    "# Getting the proportion of clients\n",
    "sex_proportion = credit_risk['Sex'].value_counts(normalize=True) * 100\n",
    "housing_proportion = credit_risk['Housing'].value_counts(normalize=True) * 100"
   ],
   "outputs": [],
   "execution_count": 10
  },
  {
   "metadata": {
    "ExecuteTime": {
     "end_time": "2025-08-17T21:37:00.982262Z",
     "start_time": "2025-08-17T21:37:00.976188Z"
    }
   },
   "cell_type": "code",
   "source": [
    "# Sex proportion\n",
    "sex_proportion"
   ],
   "id": "505f0ba7957e2c1f",
   "outputs": [
    {
     "data": {
      "text/plain": [
       "Sex\n",
       "male      69.0\n",
       "female    31.0\n",
       "Name: proportion, dtype: float64"
      ]
     },
     "execution_count": 11,
     "metadata": {},
     "output_type": "execute_result"
    }
   ],
   "execution_count": 11
  },
  {
   "metadata": {
    "ExecuteTime": {
     "end_time": "2025-08-17T21:37:01.082349Z",
     "start_time": "2025-08-17T21:37:01.076172Z"
    }
   },
   "cell_type": "code",
   "source": [
    "# Housing proportion\n",
    "housing_proportion"
   ],
   "id": "f48a086958c7d490",
   "outputs": [
    {
     "data": {
      "text/plain": [
       "Housing\n",
       "own     71.3\n",
       "rent    17.9\n",
       "free    10.8\n",
       "Name: proportion, dtype: float64"
      ]
     },
     "execution_count": 12,
     "metadata": {},
     "output_type": "execute_result"
    }
   ],
   "execution_count": 12
  },
  {
   "metadata": {},
   "cell_type": "markdown",
   "source": [
    "### Resposta\n",
    "\n",
    "> Proporção de clientes por sexo:\n",
    "\n",
    ". Homens: 69%\n",
    "\n",
    ". Mulheres: 31%\n",
    "\n",
    "> Proporção de clientes por moradia:\n",
    "\n",
    ". Casa própria: 71,3%\n",
    "\n",
    ". Aluguel: 17,9%\n",
    "\n",
    ". Moradia de graça: 10,8%"
   ],
   "id": "b37722388b020792"
  },
  {
   "cell_type": "markdown",
   "id": "3ea04200",
   "metadata": {
    "id": "3ea04200"
   },
   "source": [
    "### 4. Quais são os valores mínimos, máximos e quartis da coluna `Credit amount`? Existem outliers?"
   ]
  },
  {
   "cell_type": "code",
   "id": "7d03f8db",
   "metadata": {
    "id": "7d03f8db",
    "ExecuteTime": {
     "end_time": "2025-08-17T21:46:48.143571Z",
     "start_time": "2025-08-17T21:46:48.136980Z"
    }
   },
   "source": [
    "# Calculating Individually the min, max, std and IQR\n",
    "min_credit = credit_risk['Credit amount'].min()\n",
    "max_credit = credit_risk['Credit amount'].max()\n",
    "std_credit = credit_risk['Credit amount'].std().round(2)\n",
    "\n",
    "# Print the values\n",
    "print(f'Min: {min_credit}')\n",
    "print(f'Max: {max_credit}')\n",
    "print(f'Std: {std_credit}')"
   ],
   "outputs": [
    {
     "name": "stdout",
     "output_type": "stream",
     "text": [
      "Min: 250\n",
      "Max: 18424\n",
      "Std: 2822.74\n"
     ]
    }
   ],
   "execution_count": 23
  },
  {
   "metadata": {
    "ExecuteTime": {
     "end_time": "2025-08-17T21:44:38.178614Z",
     "start_time": "2025-08-17T21:44:38.142156Z"
    }
   },
   "cell_type": "code",
   "source": [
    "# Calculating IQR\n",
    "q1_credit = credit_risk['Credit amount'].quantile(0.25)\n",
    "q2_credit = credit_risk['Credit amount'].quantile(0.50)\n",
    "q3_credit = credit_risk['Credit amount'].quantile(0.75)\n",
    "\n",
    "# Print values\n",
    "print(f'Q1: {q1_credit}')\n",
    "print(f'Q2: {q2_credit}')\n",
    "print(f'Q3: {q3_credit}')\n",
    "\n",
    "IQR = q3_credit - q1_credit\n",
    "print(f'IQR: {IQR}')\n",
    "\n",
    "inf_limit = q1_credit - 1.5 * IQR\n",
    "sup_limit = q3_credit + 1.5 * IQR\n",
    "\n",
    "outliers = credit_risk[(credit_risk['Credit amount'] < inf_limit) |\n",
    "                      (credit_risk['Credit amount'] > sup_limit)]\n",
    "print(f\"\\nNumber of outliers: {len(outliers)}\")\n"
   ],
   "id": "751bff6be9cfe0a6",
   "outputs": [
    {
     "name": "stdout",
     "output_type": "stream",
     "text": [
      "Q1: 1365.5\n",
      "Q2: 2319.5\n",
      "Q3: 3972.25\n",
      "IQR: 2606.75\n",
      "\n",
      "Number of outliers: 72\n"
     ]
    }
   ],
   "execution_count": 21
  },
  {
   "metadata": {},
   "cell_type": "markdown",
   "source": [
    "### Resposta\n",
    "> Utilizei algumas opções para achar os valores mínimo, máximo e quartis. Poderia ter usado o `describe()` também:\n",
    "\n",
    ". Mínimo: 250\n",
    "\n",
    ". Máximo: 18424\n",
    "\n",
    ". Número total de Outliers: 72 clientes\n",
    "\n",
    "> O Q1, Q2 e Q3 foram utilizados para calcular a percentage dos dados que estão abaixo, mediana e acima do valor."
   ],
   "id": "cd2e0782739014b2"
  },
  {
   "cell_type": "markdown",
   "id": "30514714",
   "metadata": {
    "id": "30514714"
   },
   "source": [
    "### 5. Como está distribuído o tempo de `Duration` dos empréstimos (média, mediana, outliers)?"
   ]
  },
  {
   "cell_type": "code",
   "id": "c1eef8ea",
   "metadata": {
    "id": "c1eef8ea",
    "ExecuteTime": {
     "end_time": "2025-08-17T22:04:53.860711Z",
     "start_time": "2025-08-17T22:04:53.851221Z"
    }
   },
   "source": [
    "# Using Describe\n",
    "duration_describe = credit_risk['Duration'].describe().round(2)\n",
    "duration_describe"
   ],
   "outputs": [
    {
     "data": {
      "text/plain": [
       "count    1000.00\n",
       "mean       20.90\n",
       "std        12.06\n",
       "min         4.00\n",
       "25%        12.00\n",
       "50%        18.00\n",
       "75%        24.00\n",
       "max        72.00\n",
       "Name: Duration, dtype: float64"
      ]
     },
     "execution_count": 26,
     "metadata": {},
     "output_type": "execute_result"
    }
   ],
   "execution_count": 26
  },
  {
   "metadata": {
    "ExecuteTime": {
     "end_time": "2025-08-17T22:09:19.043430Z",
     "start_time": "2025-08-17T22:09:18.985348Z"
    }
   },
   "cell_type": "code",
   "source": [
    "# Only mean, median and outliers\n",
    "duration_mean = credit_risk['Duration'].mean().round(2)\n",
    "duration_median = credit_risk['Duration'].median().round(2)\n",
    "duration_outliers = credit_risk[(credit_risk['Duration'] < duration_mean - 1.5 * duration_describe['std']) |\n",
    "                                (credit_risk['Duration'] > duration_mean + 1.5 * duration_describe['std'])]\n",
    "# Print values\n",
    "print(f'Mean: {duration_mean}')\n",
    "print(f'Median: {duration_median}')\n",
    "print(f'Number of outliers: {len(duration_outliers)}')\n"
   ],
   "id": "5314dff195c1db3f",
   "outputs": [
    {
     "name": "stdout",
     "output_type": "stream",
     "text": [
      "Mean: 20.9\n",
      "Median: 18.0\n",
      "Number of outliers: 87\n"
     ]
    }
   ],
   "execution_count": 27
  },
  {
   "metadata": {
    "ExecuteTime": {
     "end_time": "2025-08-17T22:16:30.766606Z",
     "start_time": "2025-08-17T22:16:30.484117Z"
    }
   },
   "cell_type": "code",
   "source": [
    "# Plotting a histogram\n",
    "plt.figure(figsize=(10, 6))\n",
    "plt.hist(credit_risk['Duration'], bins=10, alpha=0.5, color='blue')\n",
    "plt.axvline(x=duration_mean, color='red', linestyle='--')\n",
    "plt.axvline(x=duration_median, color='green', linestyle='--')\n",
    "plt.title('Duration Histogram')\n",
    "plt.xlabel('Duration')\n",
    "plt.ylabel('Frequency')\n",
    "plt.show()"
   ],
   "id": "1d249c5242da50a5",
   "outputs": [
    {
     "data": {
      "text/plain": [
       "<Figure size 1000x600 with 1 Axes>"
      ],
      "image/png": "[encoded data removed]"
     },
     "metadata": {},
     "output_type": "display_data"
    }
   ],
   "execution_count": 29
  },
  {
   "metadata": {},
   "cell_type": "markdown",
   "source": [
    "### Resposta\n",
    "\n",
    ". Média: 20,9\n",
    "\n",
    ". Mediana: 18\n",
    "\n",
    ". Número de outliers: 87"
   ],
   "id": "dd1dc444289416c4"
  },
  {
   "cell_type": "markdown",
   "id": "4a69c776",
   "metadata": {
    "id": "4a69c776"
   },
   "source": "### 6. Quais são as categorias de `Purpose` mais frequentes e as suas porcentagens?"
  },
  {
   "cell_type": "code",
   "id": "c5f5bdfd",
   "metadata": {
    "id": "c5f5bdfd",
    "ExecuteTime": {
     "end_time": "2025-08-17T21:37:02.179161Z",
     "start_time": "2025-08-17T19:43:07.258607Z"
    }
   },
   "source": "",
   "outputs": [],
   "execution_count": null
  },
  {
   "cell_type": "markdown",
   "id": "24a507a9",
   "metadata": {
    "id": "24a507a9"
   },
   "source": [
    "### 7. Qual é a proporção de clientes com risco `good` e `bad`?"
   ]
  },
  {
   "cell_type": "code",
   "id": "5acdd917",
   "metadata": {
    "id": "5acdd917",
    "ExecuteTime": {
     "end_time": "2025-08-17T21:37:02.196307Z",
     "start_time": "2025-08-17T19:43:07.419041Z"
    }
   },
   "source": "",
   "outputs": [],
   "execution_count": null
  },
  {
   "cell_type": "markdown",
   "id": "72485be6",
   "metadata": {
    "id": "72485be6"
   },
   "source": [
    "### 8. Existe diferença na média do `Credit amount` entre clientes com diferentes categorias de `Saving accounts`?"
   ]
  },
  {
   "cell_type": "code",
   "id": "baeba38f",
   "metadata": {
    "id": "baeba38f",
    "ExecuteTime": {
     "end_time": "2025-08-17T21:37:02.197732Z",
     "start_time": "2025-08-17T19:43:07.502163Z"
    }
   },
   "source": "",
   "outputs": [],
   "execution_count": null
  },
  {
   "cell_type": "markdown",
   "id": "146b5e1e",
   "metadata": {
    "id": "146b5e1e"
   },
   "source": [
    "### 9. A idade média difere entre clientes classificados como `good` e `bad` risco?"
   ]
  },
  {
   "cell_type": "code",
   "id": "a7946b12",
   "metadata": {
    "id": "a7946b12",
    "ExecuteTime": {
     "end_time": "2025-08-17T21:37:02.199644Z",
     "start_time": "2025-08-17T19:43:07.523340Z"
    }
   },
   "source": "",
   "outputs": [],
   "execution_count": null
  },
  {
   "cell_type": "markdown",
   "id": "5ee64677",
   "metadata": {
    "id": "5ee64677"
   },
   "source": [
    "### 10. Como se relacionam `Job` e `Housing`? Qual categoria de moradia é mais comum em cada tipo de trabalho?"
   ]
  },
  {
   "cell_type": "code",
   "id": "c800144a",
   "metadata": {
    "id": "c800144a",
    "ExecuteTime": {
     "end_time": "2025-08-17T21:37:02.201469Z",
     "start_time": "2025-08-17T19:43:07.564046Z"
    }
   },
   "source": "",
   "outputs": [],
   "execution_count": null
  }
 ],
 "metadata": {
  "colab": {
   "provenance": []
  },
  "kernelspec": {
   "name": "python3",
   "language": "python",
   "display_name": "Python 3 (ipykernel)"
  }
 },
 "nbformat": 4,
 "nbformat_minor": 5
}
