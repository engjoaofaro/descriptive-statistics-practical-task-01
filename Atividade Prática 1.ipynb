{
 "cells": [
  {
   "metadata": {},
   "cell_type": "markdown",
   "source": "# Instalando pacotes",
   "id": "40ae80884a047a1d"
  },
  {
   "metadata": {
    "ExecuteTime": {
     "end_time": "2025-08-16T14:12:13.806647Z",
     "start_time": "2025-08-16T14:12:11.901369Z"
    }
   },
   "cell_type": "code",
   "source": [
    "# Install requirements\n",
    "!pip install --upgrade pip\n",
    "!pip install pandas\n",
    "!pip install matplotlib\n",
    "!pip install numpy"
   ],
   "id": "b8dd826664a155c5",
   "outputs": [
    {
     "name": "stdout",
     "output_type": "stream",
     "text": [
      "/usr/bin/bash: warning: setlocale: LC_ALL: cannot change locale (en_US.UTF-8): No such file or directory\r\n",
      "Requirement already satisfied: pip in ./.venv/lib/python3.13/site-packages (24.3.1)\r\n",
      "Collecting pip\r\n",
      "  Using cached pip-25.2-py3-none-any.whl.metadata (4.7 kB)\r\n",
      "Using cached pip-25.2-py3-none-any.whl (1.8 MB)\r\n",
      "Installing collected packages: pip\r\n",
      "  Attempting uninstall: pip\r\n",
      "    Found existing installation: pip 24.3.1\r\n",
      "    Uninstalling pip-24.3.1:\r\n",
      "      Successfully uninstalled pip-24.3.1\r\n",
      "Successfully installed pip-25.2\r\n",
      "/usr/bin/bash: warning: setlocale: LC_ALL: cannot change locale (en_US.UTF-8): No such file or directory\r\n",
      "Requirement already satisfied: pandas in ./.venv/lib/python3.13/site-packages (2.3.1)\r\n",
      "Requirement already satisfied: numpy>=1.26.0 in ./.venv/lib/python3.13/site-packages (from pandas) (2.3.2)\r\n",
      "Requirement already satisfied: python-dateutil>=2.8.2 in ./.venv/lib/python3.13/site-packages (from pandas) (2.9.0.post0)\r\n",
      "Requirement already satisfied: pytz>=2020.1 in ./.venv/lib/python3.13/site-packages (from pandas) (2025.2)\r\n",
      "Requirement already satisfied: tzdata>=2022.7 in ./.venv/lib/python3.13/site-packages (from pandas) (2025.2)\r\n",
      "Requirement already satisfied: six>=1.5 in ./.venv/lib/python3.13/site-packages (from python-dateutil>=2.8.2->pandas) (1.17.0)\r\n",
      "/usr/bin/bash: warning: setlocale: LC_ALL: cannot change locale (en_US.UTF-8): No such file or directory\r\n",
      "Requirement already satisfied: matplotlib in ./.venv/lib/python3.13/site-packages (3.10.5)\r\n",
      "Requirement already satisfied: contourpy>=1.0.1 in ./.venv/lib/python3.13/site-packages (from matplotlib) (1.3.3)\r\n",
      "Requirement already satisfied: cycler>=0.10 in ./.venv/lib/python3.13/site-packages (from matplotlib) (0.12.1)\r\n",
      "Requirement already satisfied: fonttools>=4.22.0 in ./.venv/lib/python3.13/site-packages (from matplotlib) (4.59.1)\r\n",
      "Requirement already satisfied: kiwisolver>=1.3.1 in ./.venv/lib/python3.13/site-packages (from matplotlib) (1.4.9)\r\n",
      "Requirement already satisfied: numpy>=1.23 in ./.venv/lib/python3.13/site-packages (from matplotlib) (2.3.2)\r\n",
      "Requirement already satisfied: packaging>=20.0 in ./.venv/lib/python3.13/site-packages (from matplotlib) (25.0)\r\n",
      "Requirement already satisfied: pillow>=8 in ./.venv/lib/python3.13/site-packages (from matplotlib) (11.3.0)\r\n",
      "Requirement already satisfied: pyparsing>=2.3.1 in ./.venv/lib/python3.13/site-packages (from matplotlib) (3.2.3)\r\n",
      "Requirement already satisfied: python-dateutil>=2.7 in ./.venv/lib/python3.13/site-packages (from matplotlib) (2.9.0.post0)\r\n",
      "Requirement already satisfied: six>=1.5 in ./.venv/lib/python3.13/site-packages (from python-dateutil>=2.7->matplotlib) (1.17.0)\r\n",
      "/usr/bin/bash: warning: setlocale: LC_ALL: cannot change locale (en_US.UTF-8): No such file or directory\r\n",
      "Requirement already satisfied: numpy in ./.venv/lib/python3.13/site-packages (2.3.2)\r\n"
     ]
    }
   ],
   "execution_count": 2
  },
  {
   "metadata": {},
   "cell_type": "markdown",
   "source": "# Importando dependências e a base que será utilizada no projeto",
   "id": "ddeaca67f80c1adf"
  },
  {
   "metadata": {
    "ExecuteTime": {
     "end_time": "2025-08-16T14:16:49.795273Z",
     "start_time": "2025-08-16T14:16:49.789315Z"
    }
   },
   "cell_type": "code",
   "source": [
    "import pandas as pd\n",
    "import matplotlib.pyplot as plt\n",
    "import numpy as np\n",
    "\n",
    "credit_risk = pd.read_csv('german_credit_risk_mineração_BI.csv')\n",
    "\n",
    "# Initial Database\n",
    "credit_risk.head()"
   ],
   "id": "bde63b5dcd09856",
   "outputs": [
    {
     "data": {
      "text/plain": [
       "   Unnamed: 0  Age     Sex  Job Housing Saving accounts Checking account  \\\n",
       "0           0   67    male    2     own             NaN           little   \n",
       "1           1   22  female    2     own          little         moderate   \n",
       "2           2   49    male    1     own          little              NaN   \n",
       "3           3   45    male    2    free          little           little   \n",
       "4           4   53    male    2    free          little           little   \n",
       "\n",
       "   Credit amount  Duration              Purpose  Risk  \n",
       "0           1169         6             radio/TV  good  \n",
       "1           5951        48             radio/TV   bad  \n",
       "2           2096        12            education  good  \n",
       "3           7882        42  furniture/equipment  good  \n",
       "4           4870        24                  car   bad  "
      ],
      "text/html": [
       "<div>\n",
       "<style scoped>\n",
       "    .dataframe tbody tr th:only-of-type {\n",
       "        vertical-align: middle;\n",
       "    }\n",
       "\n",
       "    .dataframe tbody tr th {\n",
       "        vertical-align: top;\n",
       "    }\n",
       "\n",
       "    .dataframe thead th {\n",
       "        text-align: right;\n",
       "    }\n",
       "</style>\n",
       "<table border=\"1\" class=\"dataframe\">\n",
       "  <thead>\n",
       "    <tr style=\"text-align: right;\">\n",
       "      <th></th>\n",
       "      <th>Unnamed: 0</th>\n",
       "      <th>Age</th>\n",
       "      <th>Sex</th>\n",
       "      <th>Job</th>\n",
       "      <th>Housing</th>\n",
       "      <th>Saving accounts</th>\n",
       "      <th>Checking account</th>\n",
       "      <th>Credit amount</th>\n",
       "      <th>Duration</th>\n",
       "      <th>Purpose</th>\n",
       "      <th>Risk</th>\n",
       "    </tr>\n",
       "  </thead>\n",
       "  <tbody>\n",
       "    <tr>\n",
       "      <th>0</th>\n",
       "      <td>0</td>\n",
       "      <td>67</td>\n",
       "      <td>male</td>\n",
       "      <td>2</td>\n",
       "      <td>own</td>\n",
       "      <td>NaN</td>\n",
       "      <td>little</td>\n",
       "      <td>1169</td>\n",
       "      <td>6</td>\n",
       "      <td>radio/TV</td>\n",
       "      <td>good</td>\n",
       "    </tr>\n",
       "    <tr>\n",
       "      <th>1</th>\n",
       "      <td>1</td>\n",
       "      <td>22</td>\n",
       "      <td>female</td>\n",
       "      <td>2</td>\n",
       "      <td>own</td>\n",
       "      <td>little</td>\n",
       "      <td>moderate</td>\n",
       "      <td>5951</td>\n",
       "      <td>48</td>\n",
       "      <td>radio/TV</td>\n",
       "      <td>bad</td>\n",
       "    </tr>\n",
       "    <tr>\n",
       "      <th>2</th>\n",
       "      <td>2</td>\n",
       "      <td>49</td>\n",
       "      <td>male</td>\n",
       "      <td>1</td>\n",
       "      <td>own</td>\n",
       "      <td>little</td>\n",
       "      <td>NaN</td>\n",
       "      <td>2096</td>\n",
       "      <td>12</td>\n",
       "      <td>education</td>\n",
       "      <td>good</td>\n",
       "    </tr>\n",
       "    <tr>\n",
       "      <th>3</th>\n",
       "      <td>3</td>\n",
       "      <td>45</td>\n",
       "      <td>male</td>\n",
       "      <td>2</td>\n",
       "      <td>free</td>\n",
       "      <td>little</td>\n",
       "      <td>little</td>\n",
       "      <td>7882</td>\n",
       "      <td>42</td>\n",
       "      <td>furniture/equipment</td>\n",
       "      <td>good</td>\n",
       "    </tr>\n",
       "    <tr>\n",
       "      <th>4</th>\n",
       "      <td>4</td>\n",
       "      <td>53</td>\n",
       "      <td>male</td>\n",
       "      <td>2</td>\n",
       "      <td>free</td>\n",
       "      <td>little</td>\n",
       "      <td>little</td>\n",
       "      <td>4870</td>\n",
       "      <td>24</td>\n",
       "      <td>car</td>\n",
       "      <td>bad</td>\n",
       "    </tr>\n",
       "  </tbody>\n",
       "</table>\n",
       "</div>"
      ]
     },
     "execution_count": 5,
     "metadata": {},
     "output_type": "execute_result"
    }
   ],
   "execution_count": 5
  },
  {
   "cell_type": "markdown",
   "id": "e7f19c93",
   "metadata": {
    "id": "e7f19c93"
   },
   "source": [
    "# Perguntas de Estatística Descritiva e Pré-processamento\n"
   ]
  },
  {
   "cell_type": "markdown",
   "id": "e9186350",
   "metadata": {
    "id": "e9186350"
   },
   "source": [
    "### 1. Qual é a média, mediana e desvio padrão da idade dos clientes?"
   ]
  },
  {
   "cell_type": "code",
   "execution_count": null,
   "id": "4bbd8258",
   "metadata": {
    "id": "4bbd8258"
   },
   "outputs": [],
   "source": [
    "# Sua análise aqui"
   ]
  },
  {
   "cell_type": "markdown",
   "id": "d946f481",
   "metadata": {
    "id": "d946f481"
   },
   "source": [
    "### 2. Qual é a distribuição de valores nulos nas colunas `Saving accounts` e `Checking account`?"
   ]
  },
  {
   "cell_type": "code",
   "execution_count": null,
   "id": "e7481268",
   "metadata": {
    "id": "e7481268"
   },
   "outputs": [],
   "source": [
    "# Sua análise aqui"
   ]
  },
  {
   "cell_type": "markdown",
   "id": "53b0497f",
   "metadata": {
    "id": "53b0497f"
   },
   "source": [
    "### 3. Qual é a proporção de clientes por categoria de `Sex` e `Housing`?"
   ]
  },
  {
   "cell_type": "code",
   "execution_count": null,
   "id": "0a36baac",
   "metadata": {
    "id": "0a36baac"
   },
   "outputs": [],
   "source": [
    "# Sua análise aqui"
   ]
  },
  {
   "cell_type": "markdown",
   "id": "3ea04200",
   "metadata": {
    "id": "3ea04200"
   },
   "source": [
    "### 4. Quais são os valores mínimos, máximos e quartis da coluna `Credit amount`? Existem outliers?"
   ]
  },
  {
   "cell_type": "code",
   "execution_count": null,
   "id": "7d03f8db",
   "metadata": {
    "id": "7d03f8db"
   },
   "outputs": [],
   "source": [
    "# Sua análise aqui"
   ]
  },
  {
   "cell_type": "markdown",
   "id": "30514714",
   "metadata": {
    "id": "30514714"
   },
   "source": [
    "### 5. Como está distribuído o tempo de `Duration` dos empréstimos (média, mediana, outliers)?"
   ]
  },
  {
   "cell_type": "code",
   "execution_count": null,
   "id": "c1eef8ea",
   "metadata": {
    "id": "c1eef8ea"
   },
   "outputs": [],
   "source": [
    "# Sua análise aqui"
   ]
  },
  {
   "cell_type": "markdown",
   "id": "4a69c776",
   "metadata": {
    "id": "4a69c776"
   },
   "source": [
    "### 6. Quais são as categorias de `Purpose` mais frequentes e suas porcentagens?"
   ]
  },
  {
   "cell_type": "code",
   "execution_count": null,
   "id": "c5f5bdfd",
   "metadata": {
    "id": "c5f5bdfd"
   },
   "outputs": [],
   "source": [
    "# Sua análise aqui"
   ]
  },
  {
   "cell_type": "markdown",
   "id": "24a507a9",
   "metadata": {
    "id": "24a507a9"
   },
   "source": [
    "### 7. Qual é a proporção de clientes com risco `good` e `bad`?"
   ]
  },
  {
   "cell_type": "code",
   "execution_count": null,
   "id": "5acdd917",
   "metadata": {
    "id": "5acdd917"
   },
   "outputs": [],
   "source": [
    "# Sua análise aqui"
   ]
  },
  {
   "cell_type": "markdown",
   "id": "72485be6",
   "metadata": {
    "id": "72485be6"
   },
   "source": [
    "### 8. Existe diferença na média do `Credit amount` entre clientes com diferentes categorias de `Saving accounts`?"
   ]
  },
  {
   "cell_type": "code",
   "execution_count": null,
   "id": "baeba38f",
   "metadata": {
    "id": "baeba38f"
   },
   "outputs": [],
   "source": [
    "# Sua análise aqui"
   ]
  },
  {
   "cell_type": "markdown",
   "id": "146b5e1e",
   "metadata": {
    "id": "146b5e1e"
   },
   "source": [
    "### 9. A idade média difere entre clientes classificados como `good` e `bad` risco?"
   ]
  },
  {
   "cell_type": "code",
   "execution_count": null,
   "id": "a7946b12",
   "metadata": {
    "id": "a7946b12"
   },
   "outputs": [],
   "source": [
    "# Sua análise aqui"
   ]
  },
  {
   "cell_type": "markdown",
   "id": "5ee64677",
   "metadata": {
    "id": "5ee64677"
   },
   "source": [
    "### 10. Como se relacionam `Job` e `Housing`? Qual categoria de moradia é mais comum em cada tipo de trabalho?"
   ]
  },
  {
   "cell_type": "code",
   "execution_count": null,
   "id": "c800144a",
   "metadata": {
    "id": "c800144a"
   },
   "outputs": [],
   "source": [
    "# Sua análise aqui"
   ]
  }
 ],
 "metadata": {
  "colab": {
   "provenance": []
  },
  "kernelspec": {
   "name": "python3",
   "language": "python",
   "display_name": "Python 3 (ipykernel)"
  }
 },
 "nbformat": 4,
 "nbformat_minor": 5
}
